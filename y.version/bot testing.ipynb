{
 "cells": [
  {
   "cell_type": "code",
   "execution_count": 5,
   "metadata": {},
   "outputs": [
    {
     "name": "stderr",
     "output_type": "stream",
     "text": [
      "2021-11-20 20:50:19,843 (__init__.py:526 MainThread) ERROR - TeleBot: \"A request to the Telegram API was unsuccessful. Error code: 409. Description: Conflict: terminated by other getUpdates request; make sure that only one bot instance is running\"\n"
     ]
    }
   ],
   "source": [
    "from telebot import TeleBot, types\n",
    "from deep_translator import GoogleTranslator\n",
    "import yaml\n",
    "\n",
    "CONFIGFILE = 'config.yaml'\n",
    "\n",
    "with open(CONFIGFILE, 'r') as f:\n",
    "    token = yaml.load(f, Loader=yaml.FullLoader)['config']['token']\n",
    "\n",
    "bot = TeleBot(token)\n",
    "\n",
    "@bot.message_handler(content_types=['text'])\n",
    "def lalala(message):\n",
    "    pass\n",
    "\n",
    "bot.remove_webhook()\n",
    "bot.polling(none_stop=False)"
   ]
  },
  {
   "cell_type": "code",
   "execution_count": 1,
   "metadata": {},
   "outputs": [
    {
     "name": "stdout",
     "output_type": "stream",
     "text": [
      "f:\\НОВЫЙ ХЛАМ\\Что-то\\BOT\\y.version\n"
     ]
    }
   ],
   "source": [
    "import os\n",
    "CURR_DIR = os.getcwd()\n",
    "print(CURR_DIR)"
   ]
  },
  {
   "cell_type": "code",
   "execution_count": 18,
   "metadata": {},
   "outputs": [
    {
     "name": "stdout",
     "output_type": "stream",
     "text": [
      "('beset', 'окружать', 'In a world beset by a climate crisis, recycling is one low-stakes activity that can make us feel like we’re making a difference.')\n"
     ]
    }
   ],
   "source": [
    "from database import connect\n",
    "from bot import BOT as bot\n",
    "\n",
    "folder = 'Ö(183278535)'\n",
    "def send(folder, user_id):\n",
    "    db, sql = connect(folder)\n",
    "\n",
    "    sql.execute(\"SELECT word, translate, sentence FROM english ORDER BY RANDOM() LIMIT 1\")\n",
    "    result = sql.fetchall()\n",
    "    for row in result:\n",
    "        print(row)\n",
    "    \n",
    "    word = result[0]\n",
    "    translate = result[1]\n",
    "    sentence = result[2]\n",
    "\n",
    "    bot.send_message(user_id, 'как переводится?' + word)\n",
    "\n",
    "send(folder)"
   ]
  },
  {
   "cell_type": "code",
   "execution_count": null,
   "metadata": {},
   "outputs": [
    {
     "name": "stdout",
     "output_type": "stream",
     "text": [
      "f\n"
     ]
    }
   ],
   "source": [
    "d = {'f':'t'}\n",
    "# d.key('f')\n",
    "\n",
    "g = list(d.keys())[list(d.values()).index('t')]\n",
    "print(g)"
   ]
  },
  {
   "cell_type": "code",
   "execution_count": null,
   "metadata": {},
   "outputs": [
    {
     "name": "stdout",
     "output_type": "stream",
     "text": [
      "fdf fd rer\n"
     ]
    }
   ],
   "source": [
    "d = ('fdf','fd','rer')\n",
    "\n",
    "q = d[0]\n",
    "w = d[1]\n",
    "e = d[2]\n",
    "\n",
    "print(q,w,e)"
   ]
  },
  {
   "cell_type": "code",
   "execution_count": 19,
   "metadata": {},
   "outputs": [],
   "source": [
    "import sqlite3 as sql3\n",
    "\n",
    "db = sql3.connect('test.db', check_same_thread=True)\n",
    "sql = db.cursor()\n",
    "\n",
    "sql.execute(\"\"\"CREATE TABLE IF NOT EXISTS text (\n",
    "word TEXT,\n",
    "translate TEXT,\n",
    "sentence TEXT\n",
    ")\"\"\")\n",
    "\n",
    "db.commit()\n",
    "\n",
    "sql.execute(\"SELECT word FROM text \")"
   ]
  },
  {
   "cell_type": "code",
   "execution_count": 44,
   "metadata": {},
   "outputs": [
    {
     "name": "stdout",
     "output_type": "stream",
     "text": [
      "x 323\n",
      "sdssdsdsdsd\n",
      "x 49034\n"
     ]
    }
   ],
   "source": [
    "class User():\n",
    "    _active = None\n",
    "    def __init__(self, name, id):\n",
    "        self.name = name\n",
    "        self.id = id \n",
    "    def __repr__(self):\n",
    "        return str(self.id)\n",
    "    def __str__(self):\n",
    "        return str(self.id)\n",
    "\n",
    "\n",
    "# l = User('dfd', 49034)\n",
    "# print(l)\n",
    "# l = User('fdsfds', 323)\n",
    "# print(l)\n",
    "\n",
    "l = [User('fdsfds', 323), User('dfd', 49034)]\n",
    "for x in l:\n",
    "    print('x', x)\n",
    "    if x.id == 323:\n",
    "        print('sdssdsdsdsd')"
   ]
  },
  {
   "cell_type": "code",
   "execution_count": 24,
   "metadata": {},
   "outputs": [
    {
     "ename": "TypeError",
     "evalue": "'NoneType' object is not subscriptable",
     "output_type": "error",
     "traceback": [
      "\u001b[1;31m---------------------------------------------------------------------------\u001b[0m",
      "\u001b[1;31mTypeError\u001b[0m                                 Traceback (most recent call last)",
      "\u001b[1;32m~\\AppData\\Local\\Temp/ipykernel_17540/3871877575.py\u001b[0m in \u001b[0;36m<module>\u001b[1;34m\u001b[0m\n\u001b[0;32m     16\u001b[0m \u001b[1;32mwith\u001b[0m \u001b[0mopen\u001b[0m\u001b[1;33m(\u001b[0m\u001b[1;34m'bugs.yaml'\u001b[0m\u001b[1;33m,\u001b[0m\u001b[1;34m'w+'\u001b[0m\u001b[1;33m)\u001b[0m \u001b[1;32mas\u001b[0m \u001b[0myamlfile\u001b[0m\u001b[1;33m:\u001b[0m\u001b[1;33m\u001b[0m\u001b[1;33m\u001b[0m\u001b[0m\n\u001b[0;32m     17\u001b[0m     \u001b[0mcur_yaml\u001b[0m \u001b[1;33m=\u001b[0m \u001b[0myaml\u001b[0m\u001b[1;33m.\u001b[0m\u001b[0msafe_load\u001b[0m\u001b[1;33m(\u001b[0m\u001b[0myamlfile\u001b[0m\u001b[1;33m)\u001b[0m \u001b[1;31m# Note the safe_load\u001b[0m\u001b[1;33m\u001b[0m\u001b[1;33m\u001b[0m\u001b[0m\n\u001b[1;32m---> 18\u001b[1;33m     \u001b[0mcur_yaml\u001b[0m\u001b[1;33m[\u001b[0m\u001b[1;34m'bugs_tree'\u001b[0m\u001b[1;33m]\u001b[0m\u001b[1;33m.\u001b[0m\u001b[0mupdate\u001b[0m\u001b[1;33m(\u001b[0m\u001b[0md\u001b[0m\u001b[1;33m)\u001b[0m\u001b[1;33m\u001b[0m\u001b[1;33m\u001b[0m\u001b[0m\n\u001b[0m\u001b[0;32m     19\u001b[0m     \u001b[0myaml\u001b[0m\u001b[1;33m.\u001b[0m\u001b[0msafe_dump\u001b[0m\u001b[1;33m(\u001b[0m\u001b[0mcur_yaml\u001b[0m\u001b[1;33m,\u001b[0m \u001b[0myamlfile\u001b[0m\u001b[1;33m)\u001b[0m\u001b[1;33m\u001b[0m\u001b[1;33m\u001b[0m\u001b[0m\n",
      "\u001b[1;31mTypeError\u001b[0m: 'NoneType' object is not subscriptable"
     ]
    }
   ],
   "source": [
    "import yaml\n",
    "\n",
    "d = {'dsds':4444444654}\n",
    "\n",
    "# with open('bugs.yaml','w') as yamlfile:\n",
    "#     pass\n",
    "\n",
    "with open('bugs.yaml','r') as yamlfile:\n",
    "    cur_yaml = yaml.safe_load(yamlfile) # Note the safe_load\n",
    "    cur_yaml['bugs_tree'].update(d)\n",
    "\n",
    "if cur_yaml:\n",
    "    with open('bugs.yaml','w') as yamlfile:\n",
    "        yaml.safe_dump(cur_yaml, yamlfile)\n",
    "\n",
    "# with open('bugs.yaml','w+') as yamlfile:\n",
    "#     cur_yaml = yaml.safe_load(yamlfile) # Note the safe_load\n",
    "#     cur_yaml['bugs_tree'].update(d)\n",
    "#     yaml.safe_dump(cur_yaml, yamlfile)"
   ]
  }
 ],
 "metadata": {
  "interpreter": {
   "hash": "eb55b668bea2601af7a7e938c4f8d744bdc94ed48220437175f4a3cd446d5454"
  },
  "kernelspec": {
   "display_name": "Python 3.9.7 64-bit ('BOT': venv)",
   "name": "python3"
  },
  "language_info": {
   "codemirror_mode": {
    "name": "ipython",
    "version": 3
   },
   "file_extension": ".py",
   "mimetype": "text/x-python",
   "name": "python",
   "nbconvert_exporter": "python",
   "pygments_lexer": "ipython3",
   "version": "3.9.9"
  },
  "orig_nbformat": 4
 },
 "nbformat": 4,
 "nbformat_minor": 2
}
