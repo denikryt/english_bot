{
 "cells": [
  {
   "cell_type": "code",
   "execution_count": 20,
   "metadata": {},
   "outputs": [
    {
     "name": "stdout",
     "output_type": "stream",
     "text": [
      "dict_keys(['Географическое положение', 'Происхождение карийцев', 'История', 'Бронзовый век', 'От прихода греков до персидского завоевания', 'Карийцы под властью персидских сатрапов', 'Деятельность карийских царей', 'Кария после разгрома Персидской державы', 'Примечания', 'Литература', 'Ссылки'])\n"
     ]
    }
   ],
   "source": [
    "import wikipediaapi\n",
    "import re\n",
    "\n",
    "url = 'https://en.wikipedia.org/wiki/Ephesus'\n",
    "re.findall(r'https://(\\w+)', url)\n",
    "\n",
    "wiki_wiki = wikipediaapi.Wikipedia('ru')\n",
    "page_py = wiki_wiki.page('Кария')\n",
    "\n",
    "paragraph = {}\n",
    "\n",
    "def print_sections(sections, level=0):\n",
    "    for s in sections:\n",
    "        # print(\"%s: %s - %s\" % (\"*\" * (level + 1), s.title, s.text))\n",
    "        paragraph[s.title] = s.text\n",
    "        print_sections(s.sections, level + 1)\n",
    "    \n",
    "\n",
    "# print(page_py.summary)\n",
    "print_sections(page_py.sections)\n",
    "print(paragraph.keys())"
   ]
  },
  {
   "cell_type": "code",
   "execution_count": 23,
   "metadata": {},
   "outputs": [
    {
     "data": {
      "text/plain": [
       "['en']"
      ]
     },
     "execution_count": 23,
     "metadata": {},
     "output_type": "execute_result"
    }
   ],
   "source": [
    "import re\n",
    "url = 'https://en.wikipedia.org/wiki/Ephesus'\n",
    "re.findall(r'https://(\\w+)', url)"
   ]
  },
  {
   "cell_type": "code",
   "execution_count": 6,
   "metadata": {},
   "outputs": [
    {
     "name": "stdout",
     "output_type": "stream",
     "text": [
      "['f', 'e', 'w']\n"
     ]
    },
    {
     "data": {
      "text/plain": [
       "32"
      ]
     },
     "execution_count": 6,
     "metadata": {},
     "output_type": "execute_result"
    }
   ],
   "source": [
    "d = {\n",
    "    'f':32,\n",
    "    'e':53,\n",
    "    'w':'ff'\n",
    "}\n",
    "\n",
    "titles = list(d.keys())\n",
    "print(titles)\n",
    "d[titles[0]]"
   ]
  },
  {
   "cell_type": "code",
   "execution_count": 24,
   "metadata": {},
   "outputs": [
    {
     "name": "stdout",
     "output_type": "stream",
     "text": [
      "g\n"
     ]
    }
   ],
   "source": [
    "g = 5\n",
    "for x in range(g):\n",
    "    print('g')\n",
    "    break"
   ]
  }
 ],
 "metadata": {
  "interpreter": {
   "hash": "58bf02fbb9216ddc154ed5648d41c5db4e58f9eae498cb5041e0c0041d1a3936"
  },
  "kernelspec": {
   "display_name": "Python 3.9.7 64-bit ('venv': venv)",
   "language": "python",
   "name": "python3"
  },
  "language_info": {
   "codemirror_mode": {
    "name": "ipython",
    "version": 3
   },
   "file_extension": ".py",
   "mimetype": "text/x-python",
   "name": "python",
   "nbconvert_exporter": "python",
   "pygments_lexer": "ipython3",
   "version": "3.9.7"
  },
  "orig_nbformat": 4
 },
 "nbformat": 4,
 "nbformat_minor": 2
}
